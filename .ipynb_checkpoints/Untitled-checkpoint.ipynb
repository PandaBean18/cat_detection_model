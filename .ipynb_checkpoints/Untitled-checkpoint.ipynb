{
 "cells": [
  {
   "cell_type": "code",
   "execution_count": 1,
   "id": "0474f9fc-9d48-44db-b8fd-bb722bbde8ae",
   "metadata": {},
   "outputs": [
    {
     "name": "stdout",
     "output_type": "stream",
     "text": [
      "lol\n"
     ]
    }
   ],
   "source": [
    "print(\"lol\")"
   ]
  },
  {
   "cell_type": "code",
   "execution_count": 10,
   "id": "ad49c55e-7169-49c6-a9f0-c05dce005763",
   "metadata": {},
   "outputs": [],
   "source": [
    "import numpy as np\n",
    "import matplotlib.pyplot as plt\n",
    "import h5py\n",
    "import scipy\n",
    "from PIL import Image\n",
    "from scipy import ndimage\n",
    "%matplotlib inline"
   ]
  },
  {
   "cell_type": "code",
   "execution_count": 46,
   "id": "21350f86-681e-4612-9129-8ca52e2ed1ae",
   "metadata": {},
   "outputs": [],
   "source": [
    "with h5py.File('train_catvnoncat.h5', 'r') as file:\n",
    "    train_set_x_original = np.array(file['train_set_x'][:])\n",
    "    train_set_y = np.array(file['train_set_y'][:])\n",
    "    train_set_y = train_set_y.reshape((1, train_set_y.shape[0]))\n",
    "    \n",
    "with h5py.File('test_catvnoncat.h5', 'r') as file:\n",
    "    classes = np.array(file['list_classes'][:])\n",
    "    test_set_x_original = np.array(file['test_set_x'][:])\n",
    "    test_set_y = np.array(file['test_set_y'][:])\n",
    "    test_set_y = test_set_y.reshape((1, test_set_y.shape[0]))"
   ]
  },
  {
   "cell_type": "code",
   "execution_count": 48,
   "id": "3046b35e-ded1-4af3-85d7-a0d5d9fa4ed9",
   "metadata": {},
   "outputs": [],
   "source": [
    "m_train = train_set_x_original.shape[0]\n",
    "m_test = test_set_x_original.shape[0]\n",
    "num_px = train_set_x_original.shape[1]"
   ]
  },
  {
   "cell_type": "code",
   "execution_count": 50,
   "id": "a6e623e1-cbdc-4fba-b7f2-e2cf04a9bba7",
   "metadata": {},
   "outputs": [],
   "source": [
    "train_set_x_flatten = train_set_x_original.reshape(train_set_x_original.shape[0], -1).T"
   ]
  },
  {
   "cell_type": "code",
   "execution_count": 51,
   "id": "d07ea57c-3cb4-4ca5-b71e-dbf26c60341f",
   "metadata": {},
   "outputs": [],
   "source": [
    "test_set_x_flatten = test_set_x_original.reshape(test_set_x_original.shape[0], -1).T"
   ]
  },
  {
   "cell_type": "code",
   "execution_count": 54,
   "id": "217be68b-50ac-40dc-94e4-ea94f2132b9c",
   "metadata": {},
   "outputs": [],
   "source": [
    "train_set_x = train_set_x_flatten / 255\n",
    "test_set_x = test_set_x_flatten / 255"
   ]
  },
  {
   "cell_type": "code",
   "execution_count": null,
   "id": "11b37c42-af50-4120-bb2d-363ce0ef3511",
   "metadata": {},
   "outputs": [],
   "source": []
  }
 ],
 "metadata": {
  "kernelspec": {
   "display_name": "Python 3 (ipykernel)",
   "language": "python",
   "name": "python3"
  },
  "language_info": {
   "codemirror_mode": {
    "name": "ipython",
    "version": 3
   },
   "file_extension": ".py",
   "mimetype": "text/x-python",
   "name": "python",
   "nbconvert_exporter": "python",
   "pygments_lexer": "ipython3",
   "version": "3.9.5"
  }
 },
 "nbformat": 4,
 "nbformat_minor": 5
}
