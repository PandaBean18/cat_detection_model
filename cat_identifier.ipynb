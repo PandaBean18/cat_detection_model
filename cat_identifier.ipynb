{
 "cells": [
  {
   "cell_type": "code",
   "execution_count": 1,
   "id": "ad49c55e-7169-49c6-a9f0-c05dce005763",
   "metadata": {},
   "outputs": [],
   "source": [
    "import numpy as np\n",
    "import matplotlib.pyplot as plt\n",
    "import h5py\n",
    "import scipy\n",
    "from PIL import Image\n",
    "from scipy import ndimage\n",
    "%matplotlib inline"
   ]
  },
  {
   "cell_type": "code",
   "execution_count": 2,
   "id": "21350f86-681e-4612-9129-8ca52e2ed1ae",
   "metadata": {},
   "outputs": [],
   "source": [
    "with h5py.File('train_catvnoncat.h5', 'r') as file:\n",
    "    train_set_x_original = np.array(file['train_set_x'][:])\n",
    "    train_set_y = np.array(file['train_set_y'][:])\n",
    "    train_set_y = train_set_y.reshape((1, train_set_y.shape[0]))\n",
    "    \n",
    "with h5py.File('test_catvnoncat.h5', 'r') as file:\n",
    "    classes = np.array(file['list_classes'][:])\n",
    "    test_set_x_original = np.array(file['test_set_x'][:])\n",
    "    test_set_y = np.array(file['test_set_y'][:])\n",
    "    test_set_y = test_set_y.reshape((1, test_set_y.shape[0]))"
   ]
  },
  {
   "cell_type": "code",
   "execution_count": 3,
   "id": "3046b35e-ded1-4af3-85d7-a0d5d9fa4ed9",
   "metadata": {},
   "outputs": [],
   "source": [
    "m_train = train_set_x_original.shape[0]\n",
    "m_test = test_set_x_original.shape[0]\n",
    "num_px = train_set_x_original.shape[1]"
   ]
  },
  {
   "cell_type": "code",
   "execution_count": 4,
   "id": "a6e623e1-cbdc-4fba-b7f2-e2cf04a9bba7",
   "metadata": {},
   "outputs": [],
   "source": [
    "train_set_x_flatten = train_set_x_original.reshape(train_set_x_original.shape[0], -1).T"
   ]
  },
  {
   "cell_type": "code",
   "execution_count": 5,
   "id": "d07ea57c-3cb4-4ca5-b71e-dbf26c60341f",
   "metadata": {},
   "outputs": [],
   "source": [
    "test_set_x_flatten = test_set_x_original.reshape(test_set_x_original.shape[0], -1).T"
   ]
  },
  {
   "cell_type": "code",
   "execution_count": 6,
   "id": "217be68b-50ac-40dc-94e4-ea94f2132b9c",
   "metadata": {},
   "outputs": [],
   "source": [
    "train_set_x = train_set_x_flatten / 255\n",
    "test_set_x = test_set_x_flatten / 255"
   ]
  },
  {
   "cell_type": "code",
   "execution_count": 11,
   "id": "d2b1d769-3d67-487c-bdcd-df6b4fb919d5",
   "metadata": {},
   "outputs": [],
   "source": [
    "# sigmoid function is defined as sigmoid(z) = 1/(1 + np.exp(z*(-1)))\n",
    "def sigmoid(z):\n",
    "    # z is an np array\n",
    "    a = 1 / (1 + np.exp(z*(-1)))\n",
    "    return a"
   ]
  },
  {
   "cell_type": "code",
   "execution_count": 13,
   "id": "e4419e7c-d2eb-48e5-ba47-c75d04527742",
   "metadata": {},
   "outputs": [],
   "source": [
    "def initialize_with_zeros(dim):\n",
    "    w = np.zeros(shape=(dim, 1))\n",
    "    b = 0\n",
    "    return w, b"
   ]
  },
  {
   "cell_type": "code",
   "execution_count": 26,
   "id": "1915ca1e-a5e5-438e-a16e-7a4889395978",
   "metadata": {},
   "outputs": [],
   "source": [
    "def propagate(w, b, X, Y):\n",
    "    m = X.shape[1]\n",
    "    Z = np.dot(w.T, X) + b\n",
    "    A = sigmoid(Z)\n",
    "    J = np.sum(np.dot(Y, np.log(A).T) + np.dot((1-Y), np.log((1-A)).T))\n",
    "    J = J/m * -1\n",
    "    dZ = A - Y\n",
    "    dw = np.dot(X, dZ.T)\n",
    "    dw = dw/m\n",
    "    db = np.sum(dZ)\n",
    "    db = db/m\n",
    "    J = np.squeeze(J)\n",
    "    grads = {\"dw\": dw,\n",
    "             \"db\": db}\n",
    "\n",
    "    return grads, J"
   ]
  },
  {
   "cell_type": "code",
   "execution_count": 27,
   "id": "63d28339-9d9a-464f-907a-e4bc2b683073",
   "metadata": {},
   "outputs": [
    {
     "name": "stdout",
     "output_type": "stream",
     "text": [
      "dw = [[0.99993216]\n",
      " [1.99980262]]\n",
      "db = 0.49993523062470574\n",
      "cost = 6.000064773192205\n"
     ]
    }
   ],
   "source": [
    "w, b, X, Y = np.array([[1], [2]]), 2, np.array([[1,2], [3,4]]), np.array([[1, 0]])\n",
    "grads, cost = propagate(w, b, X, Y)\n",
    "print (\"dw = \" + str(grads[\"dw\"]))\n",
    "print (\"db = \" + str(grads[\"db\"]))\n",
    "print (\"cost = \" + str(cost))"
   ]
  },
  {
   "cell_type": "code",
   "execution_count": null,
   "id": "be402b7b-f292-4d05-9a27-57668bf83af2",
   "metadata": {},
   "outputs": [],
   "source": []
  }
 ],
 "metadata": {
  "kernelspec": {
   "display_name": "Python 3 (ipykernel)",
   "language": "python",
   "name": "python3"
  },
  "language_info": {
   "codemirror_mode": {
    "name": "ipython",
    "version": 3
   },
   "file_extension": ".py",
   "mimetype": "text/x-python",
   "name": "python",
   "nbconvert_exporter": "python",
   "pygments_lexer": "ipython3",
   "version": "3.9.5"
  }
 },
 "nbformat": 4,
 "nbformat_minor": 5
}
